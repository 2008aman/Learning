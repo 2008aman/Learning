{
 "cells": [
  {
   "cell_type": "code",
   "execution_count": 21,
   "id": "434536a2",
   "metadata": {},
   "outputs": [],
   "source": [
    "import torch\n",
    "from botorch.test_functions.synthetic import AckleyMixed\n"
   ]
  },
  {
   "cell_type": "code",
   "execution_count": 22,
   "id": "dd3d2f1d",
   "metadata": {},
   "outputs": [],
   "source": [
    "#Create an AckleyMixed function\n",
    "dim = 10  # must be > 3\n",
    "f = AckleyMixed(dim=dim)\n"
   ]
  },
  {
   "cell_type": "code",
   "execution_count": 23,
   "id": "dc1b092b",
   "metadata": {},
   "outputs": [
    {
     "name": "stdout",
     "output_type": "stream",
     "text": [
      "Discrete indices: [0, 1, 2, 3, 4, 5, 6]\n",
      "Continuous indices: [7, 8, 9]\n"
     ]
    }
   ],
   "source": [
    "#Print what parts are discrete vs continuous\n",
    "print(\"Discrete indices:\", f.discrete_inds)\n",
    "print(\"Continuous indices:\", f.continuous_inds)"
   ]
  },
  {
   "cell_type": "code",
   "execution_count": 24,
   "id": "5ea728ca",
   "metadata": {},
   "outputs": [],
   "source": [
    "discrete_part = torch.randint(0, 2, (5, dim - 3), dtype=torch.double)\n"
   ]
  },
  {
   "cell_type": "code",
   "execution_count": 25,
   "id": "016bc84c",
   "metadata": {},
   "outputs": [],
   "source": [
    "continuous_part = torch.rand(5, 3, dtype=torch.double)\n"
   ]
  },
  {
   "cell_type": "code",
   "execution_count": 26,
   "id": "fa11ae15",
   "metadata": {},
   "outputs": [],
   "source": [
    "X = torch.cat([discrete_part, continuous_part], dim=1)"
   ]
  },
  {
   "cell_type": "code",
   "execution_count": 27,
   "id": "b64478ad",
   "metadata": {},
   "outputs": [],
   "source": [
    "Y = f(X)"
   ]
  },
  {
   "cell_type": "code",
   "execution_count": 28,
   "id": "e4a5f67f",
   "metadata": {},
   "outputs": [
    {
     "name": "stdout",
     "output_type": "stream",
     "text": [
      "\n",
      "Sample input points (mixed):\n",
      " tensor([[0.0000, 0.0000, 0.0000, 0.0000, 1.0000, 1.0000, 0.0000, 0.5433, 0.7840,\n",
      "         0.6156],\n",
      "        [0.0000, 1.0000, 0.0000, 0.0000, 1.0000, 1.0000, 1.0000, 0.5578, 0.7363,\n",
      "         0.0315],\n",
      "        [0.0000, 1.0000, 1.0000, 0.0000, 0.0000, 1.0000, 0.0000, 0.6773, 0.2565,\n",
      "         0.8160],\n",
      "        [0.0000, 0.0000, 0.0000, 1.0000, 1.0000, 1.0000, 1.0000, 0.3080, 0.2564,\n",
      "         0.3447],\n",
      "        [1.0000, 0.0000, 0.0000, 0.0000, 0.0000, 1.0000, 1.0000, 0.8341, 0.5724,\n",
      "         0.3867]], dtype=torch.float64)\n",
      "\n",
      "Function values:\n",
      " tensor([3.1521, 3.3141, 3.1490, 3.3411, 3.3474], dtype=torch.float64)\n"
     ]
    }
   ],
   "source": [
    "print(\"\\nSample input points (mixed):\\n\", X)\n",
    "print(\"\\nFunction values:\\n\", Y)"
   ]
  }
 ],
 "metadata": {
  "kernelspec": {
   "display_name": ".venv (3.12.3)",
   "language": "python",
   "name": "python3"
  },
  "language_info": {
   "codemirror_mode": {
    "name": "ipython",
    "version": 3
   },
   "file_extension": ".py",
   "mimetype": "text/x-python",
   "name": "python",
   "nbconvert_exporter": "python",
   "pygments_lexer": "ipython3",
   "version": "3.12.3"
  }
 },
 "nbformat": 4,
 "nbformat_minor": 5
}
