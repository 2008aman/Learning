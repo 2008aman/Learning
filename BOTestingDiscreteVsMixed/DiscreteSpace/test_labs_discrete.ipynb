{
 "cells": [
  {
   "cell_type": "code",
   "execution_count": 6,
   "id": "7c9dcc07",
   "metadata": {},
   "outputs": [],
   "source": [
    "import torch\n",
    "from botorch.test_functions.synthetic import Labs\n"
   ]
  },
  {
   "cell_type": "code",
   "execution_count": 7,
   "id": "9174dacf",
   "metadata": {},
   "outputs": [],
   "source": [
    "dim = 30  # must be one of [10, 20, 30, 40, 50, 60] — check documentation\n",
    "labs = Labs(dim=dim)\n"
   ]
  },
  {
   "cell_type": "code",
   "execution_count": 8,
   "id": "aea6d6fe",
   "metadata": {},
   "outputs": [],
   "source": [
    "X = torch.randint(0, 2, (5, dim), dtype=torch.double)"
   ]
  },
  {
   "cell_type": "code",
   "execution_count": 9,
   "id": "2cbe47bf",
   "metadata": {},
   "outputs": [],
   "source": [
    "Y = labs(X)"
   ]
  },
  {
   "cell_type": "code",
   "execution_count": 10,
   "id": "f62d13cd",
   "metadata": {},
   "outputs": [
    {
     "name": "stdout",
     "output_type": "stream",
     "text": [
      "Sample binary input points:\n",
      " tensor([[1., 0., 1., 1., 1., 0., 0., 0., 1., 0., 1., 1., 1., 1., 0., 1., 1., 1.,\n",
      "         1., 0., 0., 1., 1., 0., 1., 1., 0., 0., 0., 0.],\n",
      "        [1., 0., 0., 0., 0., 0., 0., 1., 0., 1., 1., 0., 1., 1., 1., 0., 1., 1.,\n",
      "         1., 1., 1., 0., 1., 0., 1., 0., 1., 1., 1., 1.],\n",
      "        [0., 0., 0., 0., 1., 0., 1., 0., 1., 1., 0., 0., 1., 0., 1., 1., 1., 1.,\n",
      "         0., 1., 0., 1., 1., 0., 0., 1., 0., 0., 1., 0.],\n",
      "        [1., 1., 1., 1., 1., 1., 0., 0., 1., 0., 0., 1., 1., 1., 1., 0., 0., 1.,\n",
      "         1., 1., 0., 0., 1., 0., 1., 1., 0., 1., 0., 0.],\n",
      "        [1., 0., 0., 1., 1., 1., 1., 1., 0., 0., 1., 1., 1., 1., 1., 1., 0., 1.,\n",
      "         1., 0., 0., 1., 0., 0., 1., 0., 1., 0., 1., 1.]], dtype=torch.float64)\n",
      "\n",
      "Function values (Merit Factor):\n",
      " tensor([1.9824, 1.2968, 1.2968, 1.5901, 1.3595], dtype=torch.float64)\n"
     ]
    }
   ],
   "source": [
    "print(\"Sample binary input points:\\n\", X)\n",
    "print(\"\\nFunction values (Merit Factor):\\n\", Y)\n"
   ]
  }
 ],
 "metadata": {
  "kernelspec": {
   "display_name": ".venv (3.12.3)",
   "language": "python",
   "name": "python3"
  },
  "language_info": {
   "codemirror_mode": {
    "name": "ipython",
    "version": 3
   },
   "file_extension": ".py",
   "mimetype": "text/x-python",
   "name": "python",
   "nbconvert_exporter": "python",
   "pygments_lexer": "ipython3",
   "version": "3.12.3"
  }
 },
 "nbformat": 4,
 "nbformat_minor": 5
}
